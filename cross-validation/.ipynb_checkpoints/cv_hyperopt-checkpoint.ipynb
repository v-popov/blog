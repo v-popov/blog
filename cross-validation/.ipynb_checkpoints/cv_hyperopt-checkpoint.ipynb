{
 "cells": [
  {
   "cell_type": "code",
   "execution_count": 25,
   "metadata": {},
   "outputs": [],
   "source": [
    "from hyperopt import tpe, hp, fmin, space_eval, Trials"
   ]
  },
  {
   "cell_type": "code",
   "execution_count": 26,
   "metadata": {},
   "outputs": [],
   "source": [
    "class ModelTraining:\n",
    "\n",
    "    def __init__(self, X, y, params_space, n_trials, cv_scoring_metric, cv):\n",
    "\n",
    "        self.X = X\n",
    "        self.y = y \n",
    "        self.params_space = params_space\n",
    "        self.n_trials = n_trials\n",
    "        self.cv_scoring_metric = cv_scoring_metric\n",
    "        self.cv = cv\n",
    "        self.trials = Trials()\n",
    "\n",
    "    def _objective(self, params):\n",
    "        estimator = LGBMRegressor(**params, random_state=1)\n",
    "        score = cross_val_score(estimator, self.X, self.y, \n",
    "                                scoring=self.cv_scoring_metric, cv=self.cv).mean()\n",
    "        return -score\n",
    "        \n",
    "    def optimize(self):\n",
    "        return fmin(self._objective,\n",
    "                    self.params_space,\n",
    "                    algo=tpe.suggest,\n",
    "                    max_evals=self.n_trials,\n",
    "                    trials=self.trials,\n",
    "                    rstate=np.random.RandomState(1))"
   ]
  },
  {
   "cell_type": "code",
   "execution_count": 27,
   "metadata": {},
   "outputs": [],
   "source": [
    "params_space = {'learning_rate' : hp.uniform('learning_rate', 0.05, 0.5),\n",
    "                'max_depth' : hp.choice('max_depth', np.arange(2,7))}"
   ]
  },
  {
   "cell_type": "code",
   "execution_count": 28,
   "metadata": {},
   "outputs": [],
   "source": [
    "model_training = ModelTraining(X=X_train, \n",
    "                               y=y_train, \n",
    "                               params_space=params_space,\n",
    "                               n_trials=50, \n",
    "                               cv_scoring_metric='neg_mean_squared_error', \n",
    "                               cv=kfold)"
   ]
  },
  {
   "cell_type": "code",
   "execution_count": 29,
   "metadata": {},
   "outputs": [
    {
     "name": "stdout",
     "output_type": "stream",
     "text": [
      "100%|███████████████████████████████████████████████████| 50/50 [00:08<00:00,  5.97it/s, best loss: 11.870490843729723]\n"
     ]
    }
   ],
   "source": [
    "best_params = model_training.optimize()"
   ]
  },
  {
   "cell_type": "code",
   "execution_count": 30,
   "metadata": {},
   "outputs": [
    {
     "data": {
      "text/plain": [
       "{'learning_rate': 0.2556072866275003, 'max_depth': 1}"
      ]
     },
     "execution_count": 30,
     "metadata": {},
     "output_type": "execute_result"
    }
   ],
   "source": [
    "best_params\n",
    "# keep in mind, that when 'hp.choice' is used, the return of the fmin function contains \n",
    "# the index of the parameter value provided in the corresponding hp.choice range of values\n",
    "# thus, 'max_depth': 3 means that \"third parameter in the np.arange(2,7) was picked as optimal\"\n",
    "# as np.arange(2,7) -> [2,3,4,5,6], the third parameter has the value of 5 (indexing starts with 0)"
   ]
  },
  {
   "cell_type": "code",
   "execution_count": 31,
   "metadata": {},
   "outputs": [
    {
     "data": {
      "text/plain": [
       "{'learning_rate': 0.2556072866275003, 'max_depth': 3}"
      ]
     },
     "execution_count": 31,
     "metadata": {},
     "output_type": "execute_result"
    }
   ],
   "source": [
    "# You can retrieve the values of the selected parameters by using space_eval:\n",
    "space_eval(params_space, best_params)"
   ]
  },
  {
   "cell_type": "code",
   "execution_count": 32,
   "metadata": {},
   "outputs": [
    {
     "data": {
      "text/plain": [
       "LGBMRegressor(boosting_type='gbdt', class_weight=None, colsample_bytree=1.0,\n",
       "              importance_type='split', learning_rate=0.2556072866275003,\n",
       "              max_depth=3, min_child_samples=20, min_child_weight=0.001,\n",
       "              min_split_gain=0.0, n_estimators=100, n_jobs=-1, num_leaves=31,\n",
       "              objective=None, random_state=1, reg_alpha=0.0, reg_lambda=0.0,\n",
       "              silent=True, subsample=1.0, subsample_for_bin=200000,\n",
       "              subsample_freq=0)"
      ]
     },
     "execution_count": 32,
     "metadata": {},
     "output_type": "execute_result"
    }
   ],
   "source": [
    "best_model = LGBMRegressor(**space_eval(params_space, best_params), random_state=1)\n",
    "best_model.fit(X_train, y_train)"
   ]
  },
  {
   "cell_type": "code",
   "execution_count": 33,
   "metadata": {},
   "outputs": [
    {
     "data": {
      "text/plain": [
       "2.0059894557008233"
      ]
     },
     "execution_count": 33,
     "metadata": {},
     "output_type": "execute_result"
    }
   ],
   "source": [
    "mse(y_train, best_model.predict(X_train))"
   ]
  },
  {
   "cell_type": "code",
   "execution_count": 34,
   "metadata": {},
   "outputs": [
    {
     "data": {
      "text/plain": [
       "11.54208304337233"
      ]
     },
     "execution_count": 34,
     "metadata": {},
     "output_type": "execute_result"
    }
   ],
   "source": [
    "mse(y_test, best_model.predict(X_test))"
   ]
  }
 ],
 "metadata": {
  "kernelspec": {
   "display_name": "Python 3",
   "language": "python",
   "name": "python3"
  },
  "language_info": {
   "codemirror_mode": {
    "name": "ipython",
    "version": 3
   },
   "file_extension": ".py",
   "mimetype": "text/x-python",
   "name": "python",
   "nbconvert_exporter": "python",
   "pygments_lexer": "ipython3",
   "version": "3.7.1"
  }
 },
 "nbformat": 4,
 "nbformat_minor": 2
}
